{
  "nbformat": 4,
  "nbformat_minor": 0,
  "metadata": {
    "colab": {
      "name": "ConvGAN.ipynb",
      "provenance": [],
      "toc_visible": true
    },
    "kernelspec": {
      "name": "python3",
      "display_name": "Python 3"
    }
  },
  "cells": [
    {
      "cell_type": "code",
      "metadata": {
        "id": "eBAcW43EDtED",
        "colab_type": "code",
        "outputId": "497cf196-b98a-4e67-f9fd-512f9fa70c82",
        "colab": {
          "base_uri": "https://localhost:8080/",
          "height": 54
        }
      },
      "source": [
        "%tensorflow_version 2.x\n",
        "\n",
        "import tensorflow as tf\n",
        "tf.__version__\n",
        "\n",
        "import numpy as np\n",
        "import pandas as pd\n",
        "import matplotlib.pyplot as plt \n",
        "\n",
        "from IPython.display import clear_output\n",
        "from tqdm import trange\n",
        "from scipy.sparse import csr_matrix\n",
        "from keras.optimizers import Adam, RMSprop\n",
        "\n",
        "layers = tf.keras.layers"
      ],
      "execution_count": 1,
      "outputs": [
        {
          "output_type": "stream",
          "text": [
            "TensorFlow 2.x selected.\n"
          ],
          "name": "stdout"
        },
        {
          "output_type": "stream",
          "text": [
            "Using TensorFlow backend.\n"
          ],
          "name": "stderr"
        }
      ]
    },
    {
      "cell_type": "code",
      "metadata": {
        "id": "DDqI7rZKeZBC",
        "colab_type": "code",
        "outputId": "b24bbc0a-e9d5-4ec1-c977-a83fbfd07a8f",
        "colab": {
          "base_uri": "https://localhost:8080/",
          "height": 287
        }
      },
      "source": [
        "dataFrame = pd.read_csv('digits.csv')\n",
        "dataFrame.describe()"
      ],
      "execution_count": 2,
      "outputs": [
        {
          "output_type": "execute_result",
          "data": {
            "text/html": [
              "<div>\n",
              "<style scoped>\n",
              "    .dataframe tbody tr th:only-of-type {\n",
              "        vertical-align: middle;\n",
              "    }\n",
              "\n",
              "    .dataframe tbody tr th {\n",
              "        vertical-align: top;\n",
              "    }\n",
              "\n",
              "    .dataframe thead th {\n",
              "        text-align: right;\n",
              "    }\n",
              "</style>\n",
              "<table border=\"1\" class=\"dataframe\">\n",
              "  <thead>\n",
              "    <tr style=\"text-align: right;\">\n",
              "      <th></th>\n",
              "      <th>evtId</th>\n",
              "      <th>ipad</th>\n",
              "      <th>itime</th>\n",
              "      <th>amp</th>\n",
              "    </tr>\n",
              "  </thead>\n",
              "  <tbody>\n",
              "    <tr>\n",
              "      <th>count</th>\n",
              "      <td>196230.000000</td>\n",
              "      <td>196230.000000</td>\n",
              "      <td>196230.000000</td>\n",
              "      <td>196230.000000</td>\n",
              "    </tr>\n",
              "    <tr>\n",
              "      <th>mean</th>\n",
              "      <td>5000.826041</td>\n",
              "      <td>43.302176</td>\n",
              "      <td>270.375152</td>\n",
              "      <td>293.583113</td>\n",
              "    </tr>\n",
              "    <tr>\n",
              "      <th>std</th>\n",
              "      <td>2886.154585</td>\n",
              "      <td>1.144196</td>\n",
              "      <td>1.448870</td>\n",
              "      <td>1107.341668</td>\n",
              "    </tr>\n",
              "    <tr>\n",
              "      <th>min</th>\n",
              "      <td>0.000000</td>\n",
              "      <td>40.000000</td>\n",
              "      <td>267.000000</td>\n",
              "      <td>1.000000</td>\n",
              "    </tr>\n",
              "    <tr>\n",
              "      <th>25%</th>\n",
              "      <td>2503.000000</td>\n",
              "      <td>42.000000</td>\n",
              "      <td>269.000000</td>\n",
              "      <td>20.130000</td>\n",
              "    </tr>\n",
              "    <tr>\n",
              "      <th>50%</th>\n",
              "      <td>4999.000000</td>\n",
              "      <td>43.000000</td>\n",
              "      <td>270.000000</td>\n",
              "      <td>108.800000</td>\n",
              "    </tr>\n",
              "    <tr>\n",
              "      <th>75%</th>\n",
              "      <td>7499.000000</td>\n",
              "      <td>44.000000</td>\n",
              "      <td>272.000000</td>\n",
              "      <td>333.075000</td>\n",
              "    </tr>\n",
              "    <tr>\n",
              "      <th>max</th>\n",
              "      <td>9998.000000</td>\n",
              "      <td>46.000000</td>\n",
              "      <td>274.000000</td>\n",
              "      <td>40950.000000</td>\n",
              "    </tr>\n",
              "  </tbody>\n",
              "</table>\n",
              "</div>"
            ],
            "text/plain": [
              "               evtId           ipad          itime            amp\n",
              "count  196230.000000  196230.000000  196230.000000  196230.000000\n",
              "mean     5000.826041      43.302176     270.375152     293.583113\n",
              "std      2886.154585       1.144196       1.448870    1107.341668\n",
              "min         0.000000      40.000000     267.000000       1.000000\n",
              "25%      2503.000000      42.000000     269.000000      20.130000\n",
              "50%      4999.000000      43.000000     270.000000     108.800000\n",
              "75%      7499.000000      44.000000     272.000000     333.075000\n",
              "max      9998.000000      46.000000     274.000000   40950.000000"
            ]
          },
          "metadata": {
            "tags": []
          },
          "execution_count": 2
        }
      ]
    },
    {
      "cell_type": "code",
      "metadata": {
        "id": "D2KSeHHumCsg",
        "colab_type": "code",
        "outputId": "900a799a-a769-4b3a-a66d-e03555d31f08",
        "colab": {
          "base_uri": "https://localhost:8080/",
          "height": 287
        }
      },
      "source": [
        "dataFrame['ipad'] -= 40\n",
        "dataFrame['itime'] -= 267\n",
        "dataFrame.describe()"
      ],
      "execution_count": 3,
      "outputs": [
        {
          "output_type": "execute_result",
          "data": {
            "text/html": [
              "<div>\n",
              "<style scoped>\n",
              "    .dataframe tbody tr th:only-of-type {\n",
              "        vertical-align: middle;\n",
              "    }\n",
              "\n",
              "    .dataframe tbody tr th {\n",
              "        vertical-align: top;\n",
              "    }\n",
              "\n",
              "    .dataframe thead th {\n",
              "        text-align: right;\n",
              "    }\n",
              "</style>\n",
              "<table border=\"1\" class=\"dataframe\">\n",
              "  <thead>\n",
              "    <tr style=\"text-align: right;\">\n",
              "      <th></th>\n",
              "      <th>evtId</th>\n",
              "      <th>ipad</th>\n",
              "      <th>itime</th>\n",
              "      <th>amp</th>\n",
              "    </tr>\n",
              "  </thead>\n",
              "  <tbody>\n",
              "    <tr>\n",
              "      <th>count</th>\n",
              "      <td>196230.000000</td>\n",
              "      <td>196230.000000</td>\n",
              "      <td>196230.000000</td>\n",
              "      <td>196230.000000</td>\n",
              "    </tr>\n",
              "    <tr>\n",
              "      <th>mean</th>\n",
              "      <td>5000.826041</td>\n",
              "      <td>3.302176</td>\n",
              "      <td>3.375152</td>\n",
              "      <td>293.583113</td>\n",
              "    </tr>\n",
              "    <tr>\n",
              "      <th>std</th>\n",
              "      <td>2886.154585</td>\n",
              "      <td>1.144196</td>\n",
              "      <td>1.448870</td>\n",
              "      <td>1107.341668</td>\n",
              "    </tr>\n",
              "    <tr>\n",
              "      <th>min</th>\n",
              "      <td>0.000000</td>\n",
              "      <td>0.000000</td>\n",
              "      <td>0.000000</td>\n",
              "      <td>1.000000</td>\n",
              "    </tr>\n",
              "    <tr>\n",
              "      <th>25%</th>\n",
              "      <td>2503.000000</td>\n",
              "      <td>2.000000</td>\n",
              "      <td>2.000000</td>\n",
              "      <td>20.130000</td>\n",
              "    </tr>\n",
              "    <tr>\n",
              "      <th>50%</th>\n",
              "      <td>4999.000000</td>\n",
              "      <td>3.000000</td>\n",
              "      <td>3.000000</td>\n",
              "      <td>108.800000</td>\n",
              "    </tr>\n",
              "    <tr>\n",
              "      <th>75%</th>\n",
              "      <td>7499.000000</td>\n",
              "      <td>4.000000</td>\n",
              "      <td>5.000000</td>\n",
              "      <td>333.075000</td>\n",
              "    </tr>\n",
              "    <tr>\n",
              "      <th>max</th>\n",
              "      <td>9998.000000</td>\n",
              "      <td>6.000000</td>\n",
              "      <td>7.000000</td>\n",
              "      <td>40950.000000</td>\n",
              "    </tr>\n",
              "  </tbody>\n",
              "</table>\n",
              "</div>"
            ],
            "text/plain": [
              "               evtId           ipad          itime            amp\n",
              "count  196230.000000  196230.000000  196230.000000  196230.000000\n",
              "mean     5000.826041       3.302176       3.375152     293.583113\n",
              "std      2886.154585       1.144196       1.448870    1107.341668\n",
              "min         0.000000       0.000000       0.000000       1.000000\n",
              "25%      2503.000000       2.000000       2.000000      20.130000\n",
              "50%      4999.000000       3.000000       3.000000     108.800000\n",
              "75%      7499.000000       4.000000       5.000000     333.075000\n",
              "max      9998.000000       6.000000       7.000000   40950.000000"
            ]
          },
          "metadata": {
            "tags": []
          },
          "execution_count": 3
        }
      ]
    },
    {
      "cell_type": "code",
      "metadata": {
        "id": "mDK5lQYPmExH",
        "colab_type": "code",
        "colab": {}
      },
      "source": [
        "data = np.array(dataFrame)\n",
        "data = np.array([data[data[:,0]==k] for k in np.unique(data[:,0])])"
      ],
      "execution_count": 0,
      "outputs": []
    },
    {
      "cell_type": "code",
      "metadata": {
        "id": "AC_DitBhmM6G",
        "colab_type": "code",
        "outputId": "8413a49f-fc71-4cb7-a759-52ad35f6aa60",
        "colab": {
          "base_uri": "https://localhost:8080/",
          "height": 35
        }
      },
      "source": [
        "imgs = []\n",
        "\n",
        "for i in range(0, data.shape[0]):\n",
        "  row = np.array(data[i][:,1])\n",
        "  col = np.array(data[i][:,2])\n",
        "  amp = np.array(data[i][:,3])\n",
        "  imgs.append(csr_matrix((amp, (row, col)), shape=(8, 8)).toarray())\n",
        "\n",
        "imgs = np.array(imgs)\n",
        "print(imgs.shape)"
      ],
      "execution_count": 5,
      "outputs": [
        {
          "output_type": "stream",
          "text": [
            "(9999, 8, 8)\n"
          ],
          "name": "stdout"
        }
      ]
    },
    {
      "cell_type": "code",
      "metadata": {
        "id": "E8tsb-mqmM_k",
        "colab_type": "code",
        "outputId": "ab9594a6-e2b7-4436-e1cc-b47e8ea35b5c",
        "colab": {
          "base_uri": "https://localhost:8080/",
          "height": 35
        }
      },
      "source": [
        "print(np.expand_dims(imgs, axis=3).shape)"
      ],
      "execution_count": 6,
      "outputs": [
        {
          "output_type": "stream",
          "text": [
            "(9999, 8, 8, 1)\n"
          ],
          "name": "stdout"
        }
      ]
    },
    {
      "cell_type": "code",
      "metadata": {
        "id": "TUEmmHhxnEyY",
        "colab_type": "code",
        "outputId": "53b98c81-f157-4691-f248-82b63a74493d",
        "colab": {
          "base_uri": "https://localhost:8080/",
          "height": 293
        }
      },
      "source": [
        "plt.figure(figsize=(15, 5))\n",
        "plt.subplot(1, 3, 1)\n",
        "plt.imshow(imgs[0]);\n",
        "plt.subplot(1, 3, 2)\n",
        "plt.imshow(imgs[1000]);\n",
        "plt.subplot(1, 3, 3)\n",
        "plt.imshow(imgs[5501]);"
      ],
      "execution_count": 7,
      "outputs": [
        {
          "output_type": "display_data",
          "data": {
            "image/png": "[encoded data removed]",
            "text/plain": [
              "<Figure size 1080x360 with 3 Axes>"
            ]
          },
          "metadata": {
            "tags": []
          }
        }
      ]
    },
    {
      "cell_type": "code",
      "metadata": {
        "id": "G7_8awvimuC0",
        "colab_type": "code",
        "outputId": "750f0a1d-3e8e-4d89-801c-0acea02dc089",
        "colab": {
          "base_uri": "https://localhost:8080/",
          "height": 353
        }
      },
      "source": [
        "plt.figure(figsize=(12, 6))\n",
        "plt.subplot(1, 2, 1)\n",
        "plt.imshow(imgs[:9].reshape(3, 3, 8, 8).transpose(0, 2, 1, 3).reshape(3 * 8, 3 * 8));\n",
        "plt.subplot(1, 2, 2)\n",
        "plt.imshow(imgs[:100].reshape(10, 10, 8, 8).transpose(0, 2, 1, 3).reshape(10 * 8, 10 * 8));"
      ],
      "execution_count": 8,
      "outputs": [
        {
          "output_type": "display_data",
          "data": {
            "image/png": "[encoded data removed]",
            "text/plain": [
              "<Figure size 864x432 with 2 Axes>"
            ]
          },
          "metadata": {
            "tags": []
          }
        }
      ]
    },
    {
      "cell_type": "code",
      "metadata": {
        "id": "0mX_fweMmuFI",
        "colab_type": "code",
        "outputId": "1701a51f-ed2b-4a4b-d91f-66bf8d423cbb",
        "colab": {
          "base_uri": "https://localhost:8080/",
          "height": 264
        }
      },
      "source": [
        "max_amps, mean_amps = [], []\n",
        "\n",
        "for img in imgs:\n",
        "  max_amps.append(np.amax(img))\n",
        "  mean_amps.append(np.mean(img))\n",
        "\n",
        "import seaborn as sns\n",
        "sns.distplot(max_amps);\n",
        "sns.distplot(mean_amps);"
      ],
      "execution_count": 9,
      "outputs": [
        {
          "output_type": "display_data",
          "data": {
            "image/png": "[encoded data removed]",
            "text/plain": [
              "<Figure size 432x288 with 1 Axes>"
            ]
          },
          "metadata": {
            "tags": []
          }
        }
      ]
    },
    {
      "cell_type": "code",
      "metadata": {
        "id": "8Yowl1ZVDrBr",
        "colab_type": "code",
        "colab": {}
      },
      "source": [
        "# Param\n",
        "# LATENT_DIM = 32\n",
        "\n",
        "# basic_generator = tf.keras.Sequential([\n",
        "#   layers.Dense(128, input_shape=(LATENT_DIM,), activation='relu'),\n",
        "#   layers.Dropout(0.1),\n",
        "#   layers.Dense(64, activation='relu'),\n",
        "#   layers.Dense(8 * 8, activation='relu'),\n",
        "#   layers.Reshape((8, 8)),\n",
        "# ])\n",
        "\n",
        "# basic_discriminator = tf.keras.Sequential([\n",
        "#   layers.Reshape((8 * 8,), input_shape=(8, 8, 1)),\n",
        "#   layers.Dense(64, activation='relu'),\n",
        "#   layers.Dropout(0.2),\n",
        "#   layers.Dense(32, activation='relu'),\n",
        "#   layers.Dropout(0.2),\n",
        "#   layers.Dense(1),\n",
        "# ])\n",
        "\n",
        "# basic_generator.summary()\n",
        "# basic_discriminator.summary()"
      ],
      "execution_count": 0,
      "outputs": []
    },
    {
      "cell_type": "code",
      "metadata": {
        "id": "Vx1kwVdDV5EG",
        "colab_type": "code",
        "outputId": "8b7c06e5-5dab-4b47-f79b-da94d846383e",
        "colab": {
          "base_uri": "https://localhost:8080/",
          "height": 1000
        }
      },
      "source": [
        "# Param\n",
        "LATENT_DIM = 32\n",
        "\n",
        "discriminator = tf.keras.Sequential([                                   \n",
        "  layers.Conv2D(64, (5, 5), strides=(2, 2), padding='same', input_shape=(8, 8, 1)),\n",
        "  layers.LeakyReLU(),\n",
        "  layers.Dropout(0.1),\n",
        "\n",
        "  layers.Conv2D(32, (5, 5), strides=(2, 2), padding='same'),\n",
        "  layers.LeakyReLU(),\n",
        "  layers.Dropout(0.1),\n",
        "\n",
        "  layers.Flatten(),\n",
        "  layers.Dense(1),\n",
        "])\n",
        "\n",
        "generator = tf.keras.Sequential([\n",
        "  layers.Dense(8 * 8 * 32, use_bias=False, input_shape=(LATENT_DIM,)),\n",
        "  layers.BatchNormalization(),\n",
        "  layers.LeakyReLU(),\n",
        "\n",
        "  layers.Reshape((4, 4, 128)),\n",
        "\n",
        "  layers.Conv2DTranspose(32, (3, 3), strides=(1, 1), padding='same', use_bias=False),\n",
        "  layers.BatchNormalization(),\n",
        "  layers.LeakyReLU(),\n",
        "\n",
        "  layers.Conv2DTranspose(64, (3, 3), strides=(2, 2), padding='same', use_bias=False),\n",
        "  layers.BatchNormalization(),\n",
        "  layers.LeakyReLU(),\n",
        "\n",
        "  layers.Conv2DTranspose(1, (5, 5), strides=(2, 2), padding='same', use_bias=False, activation='relu'),\n",
        "  layers.MaxPooling2D(2, 2),\n",
        "  layers.Reshape((8, 8)),\n",
        "])\n",
        "\n",
        "generator.summary()\n",
        "discriminator.summary()"
      ],
      "execution_count": 11,
      "outputs": [
        {
          "output_type": "stream",
          "text": [
            "Model: \"sequential_1\"\n",
            "_________________________________________________________________\n",
            "Layer (type)                 Output Shape              Param #   \n",
            "=================================================================\n",
            "dense_1 (Dense)              (None, 2048)              65536     \n",
            "_________________________________________________________________\n",
            "batch_normalization (BatchNo (None, 2048)              8192      \n",
            "_________________________________________________________________\n",
            "leaky_re_lu_2 (LeakyReLU)    (None, 2048)              0         \n",
            "_________________________________________________________________\n",
            "reshape (Reshape)            (None, 4, 4, 128)         0         \n",
            "_________________________________________________________________\n",
            "conv2d_transpose (Conv2DTran (None, 4, 4, 32)          36864     \n",
            "_________________________________________________________________\n",
            "batch_normalization_1 (Batch (None, 4, 4, 32)          128       \n",
            "_________________________________________________________________\n",
            "leaky_re_lu_3 (LeakyReLU)    (None, 4, 4, 32)          0         \n",
            "_________________________________________________________________\n",
            "conv2d_transpose_1 (Conv2DTr (None, 8, 8, 64)          18432     \n",
            "_________________________________________________________________\n",
            "batch_normalization_2 (Batch (None, 8, 8, 64)          256       \n",
            "_________________________________________________________________\n",
            "leaky_re_lu_4 (LeakyReLU)    (None, 8, 8, 64)          0         \n",
            "_________________________________________________________________\n",
            "conv2d_transpose_2 (Conv2DTr (None, 16, 16, 1)         1600      \n",
            "_________________________________________________________________\n",
            "max_pooling2d (MaxPooling2D) (None, 8, 8, 1)           0         \n",
            "_________________________________________________________________\n",
            "reshape_1 (Reshape)          (None, 8, 8)              0         \n",
            "=================================================================\n",
            "Total params: 131,008\n",
            "Trainable params: 126,720\n",
            "Non-trainable params: 4,288\n",
            "_________________________________________________________________\n",
            "Model: \"sequential\"\n",
            "_________________________________________________________________\n",
            "Layer (type)                 Output Shape              Param #   \n",
            "=================================================================\n",
            "conv2d (Conv2D)              (None, 4, 4, 64)          1664      \n",
            "_________________________________________________________________\n",
            "leaky_re_lu (LeakyReLU)      (None, 4, 4, 64)          0         \n",
            "_________________________________________________________________\n",
            "dropout (Dropout)            (None, 4, 4, 64)          0         \n",
            "_________________________________________________________________\n",
            "conv2d_1 (Conv2D)            (None, 2, 2, 32)          51232     \n",
            "_________________________________________________________________\n",
            "leaky_re_lu_1 (LeakyReLU)    (None, 2, 2, 32)          0         \n",
            "_________________________________________________________________\n",
            "dropout_1 (Dropout)          (None, 2, 2, 32)          0         \n",
            "_________________________________________________________________\n",
            "flatten (Flatten)            (None, 128)               0         \n",
            "_________________________________________________________________\n",
            "dense (Dense)                (None, 1)                 129       \n",
            "=================================================================\n",
            "Total params: 53,025\n",
            "Trainable params: 53,025\n",
            "Non-trainable params: 0\n",
            "_________________________________________________________________\n"
          ],
          "name": "stdout"
        }
      ]
    },
    {
      "cell_type": "code",
      "metadata": {
        "id": "JT32iEYgvLUg",
        "colab_type": "code",
        "colab": {}
      },
      "source": [
        "X_train = imgs\n",
        "\n",
        "# opt_d = tf.optimizers.RMSprop(1e-4)\n",
        "# opt_g = tf.optimizers.RMSprop(1e-4)\n",
        "\n",
        "discriminator_optimizer = tf.keras.optimizers.Adam(1e-3)\n",
        "generator_optimizer = tf.keras.optimizers.Adam(1e-3)"
      ],
      "execution_count": 0,
      "outputs": []
    },
    {
      "cell_type": "code",
      "metadata": {
        "id": "2OrE5X2uUE_I",
        "colab_type": "code",
        "colab": {}
      },
      "source": [
        "@tf.function\n",
        "def wasserstein_loss(y_true, y_pred):\n",
        "    return tf.keras.mean(y_true * y_pred)"
      ],
      "execution_count": 0,
      "outputs": []
    },
    {
      "cell_type": "code",
      "metadata": {
        "id": "wCKqUVEZvJiT",
        "colab_type": "code",
        "colab": {}
      },
      "source": [
        "@tf.function\n",
        "def gen_images(num):\n",
        "  return generator(tf.random.normal(shape=(num, LATENT_DIM)))\n",
        "\n",
        "@tf.function\n",
        "def apply_discriminator(batch):\n",
        "  return discriminator(tf.reshape(tf.cast(batch, 'float32'), (len(batch), 8, 8, 1)))\n",
        "\n",
        "@tf.function\n",
        "def discriminator_step(batch):\n",
        "  fake_lables = tf.ones(shape=(len(batch), 1))\n",
        "  real_lables = tf.zeros(shape=(len(batch), 1))\n",
        "  \n",
        "  with tf.GradientTape() as t:\n",
        "    fake_data = gen_images(len(batch))\n",
        "    fake_loss = tf.reduce_mean(\n",
        "      tf.nn.sigmoid_cross_entropy_with_logits(fake_lables, apply_discriminator(fake_data))\n",
        "    )\n",
        "\n",
        "    real_data = batch\n",
        "    real_loss = tf.reduce_mean(\n",
        "      tf.nn.sigmoid_cross_entropy_with_logits(real_lables, apply_discriminator(real_data))\n",
        "    )\n",
        "\n",
        "    discriminator_loss = 0.5 * fake_loss + 0.5 * real_loss\n",
        "  \n",
        "  gradient = t.gradient(discriminator_loss, discriminator.trainable_variables)\n",
        "  discriminator_optimizer.apply_gradients(zip(gradient, discriminator.trainable_variables))\n",
        "\n",
        "  return discriminator_loss\n",
        "\n",
        "\n",
        "@tf.function\n",
        "def generator_step(batch):\n",
        "  fake_lables = tf.zeros(shape=(len(batch), 1))\n",
        "\n",
        "  with tf.GradientTape() as t:\n",
        "    fake_data = gen_images(len(batch))\n",
        "    generator_loss = tf.reduce_mean(\n",
        "      tf.nn.sigmoid_cross_entropy_with_logits(fake_lables, apply_discriminator(fake_data))\n",
        "    )\n",
        "  \n",
        "  gradient = t.gradient(generator_loss, generator.trainable_variables)\n",
        "  generator_optimizer.apply_gradients(zip(gradient, generator.trainable_variables))\n",
        "  return generator_loss"
      ],
      "execution_count": 0,
      "outputs": []
    },
    {
      "cell_type": "code",
      "metadata": {
        "id": "6NxZ5GHTvJkw",
        "colab_type": "code",
        "outputId": "189021f5-579e-4ea8-cbac-a2eaee14dd79",
        "colab": {
          "base_uri": "https://localhost:8080/",
          "height": 406
        }
      },
      "source": [
        "BATCH_SIZE = 64\n",
        "N_EPOCHS = 25\n",
        "NUM_DISC_STEPS = 2\n",
        "\n",
        "discriminator_losses, generator_losses = [], []\n",
        "for i_ep in range(N_EPOCHS):\n",
        "  generator_epoch_loss, discriminator_epoch_loss = 0, 0\n",
        "  np.random.shuffle(X_train)\n",
        "\n",
        "  for i_img in trange(0, len(X_train), BATCH_SIZE):\n",
        "    batch = X_train[i_img:i_img + BATCH_SIZE]\n",
        "\n",
        "    for i in range(0, NUM_DISC_STEPS):\n",
        "      loss = discriminator_step(batch)\n",
        "      discriminator_epoch_loss += loss.numpy()\n",
        "\n",
        "    loss = generator_step(batch)\n",
        "    generator_epoch_loss += loss.numpy()\n",
        "\n",
        "  generator_losses.append(generator_epoch_loss)\n",
        "  discriminator_losses.append(discriminator_epoch_loss)\n",
        "\n",
        "  # PARAMS\n",
        "  discriminator_optimizer.learning_rate.assign(discriminator_optimizer.learning_rate * 0.96)\n",
        "  generator_optimizer.learning_rate.assign(generator_optimizer.learning_rate * 0.96)\n",
        "\n",
        "  images = (gen_images(16).numpy())\n",
        "\n",
        "  clear_output(wait=True)\n",
        "  plt.figure(figsize=(12, 6))\n",
        "  plt.subplot(1, 2, 1)\n",
        "  plt.imshow(images.reshape((4, 4, 8, 8)).transpose(0, 2, 1, 3).reshape(4 * 8, 4 * 8))\n",
        "  plt.subplot(1, 2, 2)\n",
        "  plt.plot(generator_losses, color='red')\n",
        "  plt.plot(discriminator_losses, color='blue')\n",
        "  plt.xlabel('epoch')\n",
        "  plt.ylabel('loss')\n",
        "  plt.show()\n",
        "  print(\"Done with epoch #\", i_ep)"
      ],
      "execution_count": 15,
      "outputs": [
        {
          "output_type": "display_data",
          "data": {
            "image/png": "[encoded data removed]",
            "text/plain": [
              "<Figure size 864x432 with 2 Axes>"
            ]
          },
          "metadata": {
            "tags": []
          }
        },
        {
          "output_type": "stream",
          "text": [
            "Done with epoch # 24\n"
          ],
          "name": "stdout"
        }
      ]
    },
    {
      "cell_type": "code",
      "metadata": {
        "id": "LSSrTIE8vJna",
        "colab_type": "code",
        "outputId": "f889de60-413d-4587-fb12-aa289075b079",
        "colab": {
          "base_uri": "https://localhost:8080/",
          "height": 353
        }
      },
      "source": [
        "generated_imgs = gen_images(100)\n",
        "plt.figure(figsize=(12, 6))\n",
        "plt.subplot(1, 2, 1)\n",
        "plt.imshow(np.array(generated_imgs).reshape(10, 10, 8, 8).transpose(0, 2, 1, 3).reshape(10 * 8, 10 * 8));\n",
        "plt.subplot(1, 2, 2)\n",
        "plt.imshow(imgs[:100].reshape(10, 10, 8, 8).transpose(0, 2, 1, 3).reshape(10 * 8, 10 * 8));"
      ],
      "execution_count": 17,
      "outputs": [
        {
          "output_type": "display_data",
          "data": {
            "image/png": "[encoded data removed]",
            "text/plain": [
              "<Figure size 864x432 with 2 Axes>"
            ]
          },
          "metadata": {
            "tags": []
          }
        }
      ]
    },
    {
      "cell_type": "code",
      "metadata": {
        "id": "3G-UfhqjisZI",
        "colab_type": "code",
        "colab": {
          "base_uri": "https://localhost:8080/",
          "height": 352
        },
        "outputId": "e2b489c8-f2bb-497c-c4fd-125810ad7796"
      },
      "source": [
        "generated_imgs = gen_images(1)\n",
        "plt.figure(figsize=(12, 6))\n",
        "plt.subplot(1, 2, 1)\n",
        "plt.imshow(np.array(generated_imgs).reshape(1, 1, 8, 8).transpose(0, 2, 1, 3).reshape(1 * 8, 1 * 8));\n",
        "plt.subplot(1, 2, 2)\n",
        "plt.imshow(imgs[:1].reshape(1, 1, 8, 8).transpose(0, 2, 1, 3).reshape(1 * 8, 1 * 8));"
      ],
      "execution_count": 25,
      "outputs": [
        {
          "output_type": "display_data",
          "data": {
            "image/png": "[encoded data removed]",
            "text/plain": [
              "<Figure size 864x432 with 2 Axes>"
            ]
          },
          "metadata": {
            "tags": []
          }
        }
      ]
    }
  ]
}